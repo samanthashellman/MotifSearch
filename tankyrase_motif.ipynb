{
 "cells": [
  {
   "cell_type": "code",
   "execution_count": 1,
   "id": "ef715205-c81d-40f8-b438-b93362b283f2",
   "metadata": {},
   "outputs": [],
   "source": [
    "# takes out all of the new line characters in the file\n",
    "\n",
    "def modify(seq):\n",
    "    new_seq = ''\n",
    "    for i in range(len(seq)):\n",
    "        if seq[i] != '\\n':\n",
    "            new_seq = new_seq + seq[i]\n",
    "    return new_seq\n",
    "    "
   ]
  },
  {
   "cell_type": "code",
   "execution_count": 2,
   "id": "81df6d73-97c1-4b26-8fe7-3e83903c6540",
   "metadata": {},
   "outputs": [],
   "source": [
    "# should output starting index of motif, or -1 if there is none\n",
    "\n",
    "def find_motif(txt_file):\n",
    "    \n",
    "    pref = [\"G\", \"P\", \"A\", \"L\", \"V\", \"S\"]\n",
    "    \n",
    "    strong_print = ''\n",
    "    indices = []\n",
    "    \n",
    "    text = open(txt_file, \"r\")\n",
    "    print(next(text)) # print first line, then skip it\n",
    "    seq = text.read()\n",
    "    \n",
    "    sequence = modify(seq)\n",
    "    \n",
    "    for i in range(len(sequence)-6):\n",
    "        if sequence[i] == 'R':\n",
    "            if sequence[i+5] == 'G':\n",
    "                if sequence[i+6] != 'P':\n",
    "                    indices.append(i)\n",
    "                    print(sequence[i:i+8])\n",
    "                    strong_print = strong_print + sequence[i:i+8] + ' (' + str(i) + ')'\n",
    "                    \n",
    "                    #check for rules 4 and 5\n",
    "                    if sequence[i+7] == 'D' or sequence[i+7] == 'E':\n",
    "                        if sequence[i+3] in pref:\n",
    "                            strong_print = strong_print + ' - strong'\n",
    "                    strong_print = strong_print + '\\n'\n",
    "    \n",
    "    print('\\n')\n",
    "    print(strong_print)\n",
    "    \n",
    "    if len(indices) == 0:\n",
    "        return -1\n",
    "    return indices"
   ]
  },
  {
   "cell_type": "code",
   "execution_count": 10,
   "id": "219e23ab-aebf-471b-bc86-84397914b5b1",
   "metadata": {},
   "outputs": [
    {
     "name": "stdout",
     "output_type": "stream",
     "text": [
      ">sp|Q14980|NUMA1_HUMAN Nuclear mitotic apparatus protein 1 OS=Homo sapiens OX=9606 GN=NUMA1 PE=1 SV=2\n",
      "\n",
      "RAGRKGLE\n",
      "RLQQLGEA\n",
      "RAEELGQE\n",
      "RTQPDGTS\n",
      "RRSQAGVS\n",
      "RDRHEGRK\n",
      "\n",
      "\n",
      "RAGRKGLE (760)\n",
      "RLQQLGEA (769)\n",
      "RAEELGQE (1320)\n",
      "RTQPDGTS (1742)\n",
      "RRSQAGVS (1884)\n",
      "RDRHEGRK (2016)\n",
      "\n"
     ]
    },
    {
     "data": {
      "text/plain": [
       "[760, 769, 1320, 1742, 1884, 2016]"
      ]
     },
     "execution_count": 10,
     "metadata": {},
     "output_type": "execute_result"
    }
   ],
   "source": [
    "find_motif('NUMA-Q14980.fasta.txt')"
   ]
  },
  {
   "cell_type": "code",
   "execution_count": 4,
   "id": "5a4a06d6-2899-482f-b992-ce7e50ecd706",
   "metadata": {},
   "outputs": [
    {
     "name": "stdout",
     "output_type": "stream",
     "text": [
      ">sp|O15169|AXIN1_HUMAN Axin-1 OS=Homo sapiens OX=9606 GN=AXIN1 PE=1 SV=2\n",
      "\n",
      "RPPVPGEE\n",
      "RRYSEGRE\n",
      "REFRYGSW\n",
      "RMEEEGED\n",
      "RCVDMGCA\n",
      "RSPDSGHV\n",
      "RHRRTGHG\n",
      "RRTGHGSS\n",
      "RKVGGGSA\n",
      "RTLVRGRA\n",
      "RAVTLGQF\n",
      "\n",
      "\n",
      "RPPVPGEE (21) - strong\n",
      "RRYSEGRE (283) - strong\n",
      "REFRYGSW (289)\n",
      "RMEEEGED (416)\n",
      "RCVDMGCA (449)\n",
      "RSPDSGHV (491)\n",
      "RHRRTGHG (644)\n",
      "RRTGHGSS (646)\n",
      "RKVGGGSA (769)\n",
      "RTLVRGRA (796)\n",
      "RAVTLGQF (802)\n",
      "\n"
     ]
    },
    {
     "data": {
      "text/plain": [
       "[21, 283, 289, 416, 449, 491, 644, 646, 769, 796, 802]"
      ]
     },
     "execution_count": 4,
     "metadata": {},
     "output_type": "execute_result"
    }
   ],
   "source": [
    "find_motif('AXIN1-O15169.fasta.txt')"
   ]
  },
  {
   "cell_type": "code",
   "execution_count": 5,
   "id": "324a2525-6b53-49af-8283-85968446587f",
   "metadata": {},
   "outputs": [
    {
     "name": "stdout",
     "output_type": "stream",
     "text": [
      ">sp|Q9NR96|TLR9_HUMAN Toll-like receptor 9 OS=Homo sapiens OX=9606 GN=TLR9 PE=1 SV=2\n",
      "\n",
      "RVLDVGGN\n",
      "RGRQSGRD\n",
      "RDWLPGKT\n",
      "\n",
      "\n",
      "RVLDVGGN (246)\n",
      "RGRQSGRD (856)\n",
      "RDWLPGKT (910)\n",
      "\n"
     ]
    },
    {
     "data": {
      "text/plain": [
       "[246, 856, 910]"
      ]
     },
     "execution_count": 5,
     "metadata": {},
     "output_type": "execute_result"
    }
   ],
   "source": [
    "find_motif('TLR9-Q9NR96.fasta.txt')"
   ]
  },
  {
   "cell_type": "code",
   "execution_count": 6,
   "id": "13e62623-4283-4aa9-81e9-364c324a1808",
   "metadata": {},
   "outputs": [],
   "source": [
    "def find_non_canonical(txt_file):\n",
    "    \n",
    "    indices = []\n",
    "    \n",
    "    text = open(txt_file, \"r\")\n",
    "    print(next(text))\n",
    "    seq = text.read()\n",
    "    \n",
    "    sequence = modify(seq)\n",
    "    \n",
    "    for i in range(len(sequence)-9):\n",
    "        if sequence[i] == 'R':\n",
    "            if (sequence[i+6] == 'G' and sequence[i+7] != 'P') or (sequence[i+7] == 'G' and sequence[i+8] != 'P') or (sequence[i+8] == 'G' and sequence[i+9] != 'P'):\n",
    "                    indices.append(i)\n",
    "                    print(sequence[i:i+9])\n",
    "    \n",
    "    if len(indices) == 0:\n",
    "        return -1\n",
    "    return indices"
   ]
  },
  {
   "cell_type": "code",
   "execution_count": 7,
   "id": "085b5a57-5940-4006-86c6-bead53b114f2",
   "metadata": {},
   "outputs": [
    {
     "name": "stdout",
     "output_type": "stream",
     "text": [
      ">sp|Q14980|NUMA1_HUMAN Nuclear mitotic apparatus protein 1 OS=Homo sapiens OX=9606 GN=NUMA1 PE=1 SV=2\n",
      "\n",
      "RIHGTEEGQ\n",
      "REAEQMGNE\n",
      "RAALMESQG\n",
      "RLTQERGRA\n",
      "RQVLEKEGE\n",
      "RAQRELGEL\n",
      "RAEAERLGH\n",
      "RLGSPDYGN\n",
      "RSQAGVSSG\n",
      "RNSFYMGTC\n",
      "RPSLSLGTI\n"
     ]
    },
    {
     "data": {
      "text/plain": [
       "[41, 971, 984, 1007, 1238, 1400, 1648, 1858, 1885, 1898, 1942]"
      ]
     },
     "execution_count": 7,
     "metadata": {},
     "output_type": "execute_result"
    }
   ],
   "source": [
    "find_non_canonical('NUMA-Q14980.fasta.txt')"
   ]
  },
  {
   "cell_type": "code",
   "execution_count": 8,
   "id": "d41a17a2-95c8-4f8d-bac8-bcc48a754a39",
   "metadata": {},
   "outputs": [
    {
     "name": "stdout",
     "output_type": "stream",
     "text": [
      ">sp|O15169|AXIN1_HUMAN Axin-1 OS=Homo sapiens OX=9606 GN=AXIN1 PE=1 SV=2\n",
      "\n",
      "RPPVPGEEG\n",
      "RRSDLDLGY\n",
      "RSDLDLGYE\n",
      "RTFLKQEGC\n",
      "RKYILDNNG\n",
      "RDAAPPGRL\n",
      "RVRMEEEGE\n",
      "RMEEEGEDG\n",
      "RCVDMGCAG\n",
      "RVLRTPGRQ\n",
      "RQSPGPGHR\n",
      "RAQSSFAWG\n",
      "RGYSESVGA\n",
      "RNAKKAESG\n",
      "RHRRTGHGS\n",
      "RRTGHGSSG\n",
      "RTGHGSSGT\n",
      "RSQRKVGGG\n",
      "RGRAVTLGQ\n"
     ]
    },
    {
     "data": {
      "text/plain": [
       "[21,\n",
       " 61,\n",
       " 62,\n",
       " 102,\n",
       " 145,\n",
       " 258,\n",
       " 414,\n",
       " 416,\n",
       " 449,\n",
       " 476,\n",
       " 483,\n",
       " 556,\n",
       " 575,\n",
       " 603,\n",
       " 644,\n",
       " 646,\n",
       " 647,\n",
       " 766,\n",
       " 800]"
      ]
     },
     "execution_count": 8,
     "metadata": {},
     "output_type": "execute_result"
    }
   ],
   "source": [
    "find_non_canonical('AXIN1-O15169.fasta.txt')"
   ]
  },
  {
   "cell_type": "code",
   "execution_count": 9,
   "id": "6baadd06-bd26-406f-8d80-e17f68299bea",
   "metadata": {},
   "outputs": [
    {
     "name": "stdout",
     "output_type": "stream",
     "text": [
      ">sp|Q9NR96|TLR9_HUMAN Toll-like receptor 9 OS=Homo sapiens OX=9606 GN=TLR9 PE=1 SV=2\n",
      "\n",
      "RFLFMDGNC\n",
      "RQALEVAPG\n",
      "RVLDVGGNC\n",
      "RALDFSGNA\n",
      "RVKCGSPGQ\n",
      "RGQLEECRG\n",
      "RSFWAQLGM\n"
     ]
    },
    {
     "data": {
      "text/plain": [
       "[169, 184, 246, 600, 786, 891, 1002]"
      ]
     },
     "execution_count": 9,
     "metadata": {},
     "output_type": "execute_result"
    }
   ],
   "source": [
    "find_non_canonical('TLR9-Q9NR96.fasta.txt')"
   ]
  },
  {
   "cell_type": "code",
   "execution_count": null,
   "id": "db9feca0-f58d-4348-8e96-15e19304202a",
   "metadata": {},
   "outputs": [],
   "source": []
  }
 ],
 "metadata": {
  "kernelspec": {
   "display_name": "Python 3",
   "language": "python",
   "name": "python3"
  },
  "language_info": {
   "codemirror_mode": {
    "name": "ipython",
    "version": 3
   },
   "file_extension": ".py",
   "mimetype": "text/x-python",
   "name": "python",
   "nbconvert_exporter": "python",
   "pygments_lexer": "ipython3",
   "version": "3.8.8"
  }
 },
 "nbformat": 4,
 "nbformat_minor": 5
}
